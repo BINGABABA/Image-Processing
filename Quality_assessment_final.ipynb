{
  "cells": [
    {
      "cell_type": "code",
      "source": [
        "!pip install wfdb"
      ],
      "metadata": {
        "id": "GHCpXJ4ENNP8"
      },
      "execution_count": null,
      "outputs": []
    },
    {
      "cell_type": "code",
      "source": [
        "from google.colab import drive\n",
        "import numpy as np\n",
        "import wfdb\n",
        "import pandas as pd\n",
        "from scipy.signal import find_peaks\n",
        "drive.mount('/content/drive')"
      ],
      "metadata": {
        "id": "lJcafwTEDx4b",
        "outputId": "f2bdd0aa-00ec-4b0b-ea1d-c399d5714f1e",
        "colab": {
          "base_uri": "https://localhost:8080/"
        }
      },
      "execution_count": null,
      "outputs": [
        {
          "output_type": "stream",
          "name": "stdout",
          "text": [
            "Mounted at /content/drive\n"
          ]
        }
      ]
    },
    {
      "cell_type": "code",
      "source": [
        "subject_info= pd.read_csv('/content/drive/MyDrive/mini_project_dataset/subject-info.csv')\n",
        "hr_info = pd.read_csv('/content/drive/MyDrive/mini_project_dataset/quality-hr-ann.csv')\n",
        "af_files = ['/content/drive/MyDrive/MIMIC perform AF non-AF database/mimic_perform_af_csv/mimic_perform_af_00{}_data.csv'.format(i) for i in range(1, 20)]"
      ],
      "metadata": {
        "id": "5RF5lksfQ9LU"
      },
      "execution_count": null,
      "outputs": []
    },
    {
      "cell_type": "code",
      "source": [
        "ppg_files=[]\n",
        "id=[]\n",
        "for i in range(0,12):\n",
        "  for j in range(1,5):\n",
        "    num=str(100000+i*1000+j)\n",
        "    id.append(num)\n",
        "    filepath='/content/drive/MyDrive/mini_project_dataset/'+num+'/'+num+'_PPG'\n",
        "    ppg_files.append(filepath)"
      ],
      "metadata": {
        "id": "Fkbxz8tEKh2N"
      },
      "execution_count": null,
      "outputs": []
    },
    {
      "cell_type": "code",
      "source": [
        "def load_ppg_data(ppg_files):\n",
        "    ppg_data = []\n",
        "\n",
        "    for file_path in ppg_files:\n",
        "        record = wfdb.rdrecord(file_path.replace('.dat', ''))\n",
        "        ppg_data.append(record.p_signal)\n",
        "\n",
        "    return ppg_data"
      ],
      "metadata": {
        "id": "e5KpwHqqZbd_"
      },
      "execution_count": null,
      "outputs": []
    },
    {
      "cell_type": "code",
      "source": [
        "ppg_data = load_ppg_data(ppg_files)\n",
        "amp=[]\n",
        "pi=[]\n",
        "for signal in ppg_data:\n",
        "  ppg_signal = signal.flatten()\n",
        "  pulse_wave_amplitude = np.max(ppg_signal) - np.min(ppg_signal)\n",
        "  ac_component = np.abs(ppg_signal - np.mean(ppg_signal))\n",
        "  dc_component = np.mean(ac_component)\n",
        "  perfusion_index = np.max(ac_component) / dc_component\n",
        "  amp.append(pulse_wave_amplitude)\n",
        "  pi.append(perfusion_index)\n",
        "subject_info['HR']=hr_info['HR']\n",
        "subject_info['Amplitude']=amp\n",
        "subject_info['PI']=pi\n",
        "list_of_tuples = list(zip(hr_info['Quality']))\n",
        "y=pd.DataFrame(list_of_tuples,columns=[ 'Quality'])"
      ],
      "metadata": {
        "id": "10dyAKN1V_B7"
      },
      "execution_count": null,
      "outputs": []
    },
    {
      "cell_type": "code",
      "source": [
        "from sklearn.linear_model import LogisticRegression\n",
        "from sklearn.model_selection import GridSearchCV\n",
        "from sklearn.model_selection import train_test_split\n",
        "from sklearn.preprocessing import StandardScaler, LabelEncoder\n",
        "label_encoder = LabelEncoder()\n",
        "subject_info['Gender'] = label_encoder.fit_transform(subject_info['Gender'])\n",
        "X_train, X_test, y_train, y_test = train_test_split(subject_info, y, test_size=0.2, random_state=42)\n",
        "classifier=LogisticRegression()\n",
        "parameter={'C':[1,2,3,4,5,6,10,15,20,25,30],'max_iter':[100,200,300]}\n",
        "classifier_regressor=GridSearchCV(classifier,param_grid=parameter,scoring='accuracy',cv=5)\n",
        "classifier_regressor.fit(X_train,y_train)\n",
        "print(\"*\")\n",
        "print(classifier_regressor.best_score_)"
      ],
      "metadata": {
        "id": "GE3K1PvC2DcG"
      },
      "execution_count": null,
      "outputs": []
    },
    {
      "cell_type": "code",
      "source": [
        "from sklearn.metrics import accuracy_score,classification_report\n",
        "y_pred=classifier_regressor.predict(X_test)\n",
        "score=accuracy_score(y_pred,y_test)\n",
        "print(score)"
      ],
      "metadata": {
        "id": "YD4F_ruKBLQf",
        "outputId": "2fea432e-86aa-487b-a77a-03a69d09c15c",
        "colab": {
          "base_uri": "https://localhost:8080/"
        }
      },
      "execution_count": null,
      "outputs": [
        {
          "output_type": "stream",
          "name": "stdout",
          "text": [
            "0.7\n"
          ]
        }
      ]
    },
    {
      "cell_type": "code",
      "source": [
        "num_diastolic_peaks_list=[]\n",
        "zero_crossing_rates=[]\n",
        "snr_values=[]\n",
        "for signal in ppg_data:\n",
        "  ppg_signal = signal.flatten()\n",
        "  diastolic_peaks = find_peaks(-ppg_signal, height=-0.5)[0]\n",
        "  num_diastolic_peaks = len(diastolic_peaks)\n",
        "  zero_crossings = np.count_nonzero(np.diff(np.sign(ppg_signal)))\n",
        "  snr = np.max(ppg_signal) / np.std(ppg_signal)\n",
        "  num_diastolic_peaks_list.append(num_diastolic_peaks)\n",
        "  zero_crossing_rates.append(zero_crossings)\n",
        "  snr_values.append(snr)\n",
        "subject_info.drop([\"Amplitude\",\"PI\"],axis=1, inplace=True)\n",
        "subject_info[\"num_diastolic_peaks\"]=num_diastolic_peaks_list\n",
        "subject_info[\"zero_crossing_rate\"]=zero_crossing_rates\n",
        "subject_info[\"snr_value\"]=snr_values"
      ],
      "metadata": {
        "id": "7pEEVIK3W4hY"
      },
      "execution_count": null,
      "outputs": []
    },
    {
      "cell_type": "code",
      "source": [
        "label_encoder = LabelEncoder()\n",
        "subject_info['Gender'] = label_encoder.fit_transform(subject_info['Gender'])\n",
        "X_train, X_test, y_train, y_test = train_test_split(subject_info, y, test_size=0.2, random_state=42)\n",
        "classifier=LogisticRegression()\n",
        "parameter={'C':[1,2,3,4,5,6,10,15,20,25,30],'max_iter':[100,200,300]}\n",
        "classifier_regressor=GridSearchCV(classifier,param_grid=parameter,scoring='accuracy',cv=5)\n",
        "classifier_regressor.fit(X_train,y_train)\n",
        "print(\"*\")\n",
        "print(classifier_regressor.best_score_)"
      ],
      "metadata": {
        "id": "ZRcZilkoYbZu"
      },
      "execution_count": null,
      "outputs": []
    },
    {
      "cell_type": "code",
      "source": [
        "from sklearn.metrics import accuracy_score,classification_report\n",
        "y_pred=classifier_regressor.predict(X_test)\n",
        "score=accuracy_score(y_pred,y_test)\n",
        "print(score)"
      ],
      "metadata": {
        "colab": {
          "base_uri": "https://localhost:8080/"
        },
        "id": "K8i80pKFYl3B",
        "outputId": "518fecf6-96b6-4825-8d81-3e2cd0b40f83"
      },
      "execution_count": null,
      "outputs": [
        {
          "output_type": "stream",
          "name": "stdout",
          "text": [
            "0.8\n"
          ]
        }
      ]
    },
    {
      "cell_type": "code",
      "source": [
        "from sklearn.ensemble import RandomForestClassifier\n",
        "from sklearn.svm import SVC\n",
        "from sklearn.model_selection import GridSearchCV\n",
        "from sklearn.preprocessing import LabelEncoder\n",
        "from sklearn.model_selection import train_test_split\n",
        "from sklearn.metrics import accuracy_score\n",
        "classifier_rf = RandomForestClassifier()\n",
        "parameters_rf = {'n_estimators': [50, 100, 150, 200], 'max_depth': [None, 10, 20, 30]}\n",
        "classifier_regressor_rf = GridSearchCV(classifier_rf, param_grid=parameters_rf, scoring='accuracy', cv=5)\n",
        "classifier_regressor_rf.fit(X_train, y_train)\n",
        "print(\"\\nRandom Forest:\")\n",
        "print(\"Best Score:\", classifier_regressor_rf.best_score_)"
      ],
      "metadata": {
        "id": "Bw_Xp1tlfMK8"
      },
      "execution_count": null,
      "outputs": []
    },
    {
      "cell_type": "code",
      "source": [
        "from sklearn.metrics import accuracy_score,classification_report\n",
        "y_pred=classifier_regressor_rf.predict(X_test)\n",
        "score=accuracy_score(y_pred,y_test)\n",
        "print(score)"
      ],
      "metadata": {
        "colab": {
          "base_uri": "https://localhost:8080/"
        },
        "id": "__3yK30rfeUi",
        "outputId": "72426965-14a0-43be-f854-6a410d50d53f"
      },
      "execution_count": null,
      "outputs": [
        {
          "output_type": "stream",
          "name": "stdout",
          "text": [
            "0.9\n"
          ]
        }
      ]
    },
    {
      "cell_type": "code",
      "source": [
        "from sklearn.svm import SVC\n",
        "from sklearn.model_selection import GridSearchCV\n",
        "from sklearn.metrics import accuracy_score\n",
        "# Support Vector Machine (SVM)\n",
        "classifier_svm = SVC()\n",
        "parameters_svm = {'C': [0.1, 1, 10], 'kernel': ['linear', 'rbf']}\n",
        "classifier_regressor_svm = GridSearchCV(classifier_svm, param_grid=parameters_svm, scoring='accuracy', cv=5)\n",
        "classifier_regressor_svm.fit(X_train, y_train)\n",
        "\n",
        "print(\"\\nSupport Vector Machine:\")\n",
        "print(\"Best Score:\", classifier_regressor_svm.best_score_)"
      ],
      "metadata": {
        "id": "LVB_lFukfVcS"
      },
      "execution_count": null,
      "outputs": []
    },
    {
      "cell_type": "code",
      "source": [
        "from sklearn.metrics import accuracy_score,classification_report\n",
        "y_pred=classifier_regressor_svm.predict(X_test)\n",
        "score=accuracy_score(y_pred,y_test)\n",
        "print(score)"
      ],
      "metadata": {
        "colab": {
          "base_uri": "https://localhost:8080/"
        },
        "id": "CVTX4RAyflFC",
        "outputId": "8f90478b-022f-47ff-8553-3274dfb77292"
      },
      "execution_count": null,
      "outputs": [
        {
          "output_type": "stream",
          "name": "stdout",
          "text": [
            "0.9\n"
          ]
        }
      ]
    },
    {
      "cell_type": "code",
      "source": [
        "from sklearn.svm import SVC\n",
        "import matplotlib.pyplot as plt\n",
        "from sklearn.metrics import accuracy_score, confusion_matrix\n",
        "kernels = [\"linear\", \"rbf\", \"poly\", \"sigmoid\"]\n",
        "best_accuracy = 0\n",
        "best_kernel = None\n",
        "best_model = None\n",
        "\n",
        "for kernel in kernels:\n",
        "    # Create and train the SVM model\n",
        "    model = SVC(kernel=kernel)\n",
        "    model.fit(X_train, y_train)\n",
        "\n",
        "    # Make predictions on the testing set\n",
        "    y_pred = model.predict(X_test)\n",
        "\n",
        "    # Evaluate model performance\n",
        "    accuracy = accuracy_score(y_test, y_pred)\n",
        "    print(f\"Accuracy with kernel '{kernel}':\", accuracy)\n",
        "\n",
        "    if accuracy > best_accuracy:\n",
        "        best_accuracy = accuracy\n",
        "        best_kernel = kernel\n",
        "        best_model = model\n",
        "\n",
        "print(\"\\nBest kernel:\", best_kernel)\n",
        "print(\"Best accuracy:\", best_accuracy)\n",
        "cm = confusion_matrix(y_test, best_model.predict(X_test))\n",
        "print(\"Confusion Matrix:\\n\", cm)\n",
        "# # Visualize decision boundary (using the best model)\n",
        "# plt.scatter(X_test[\"HR\"], y_test,  cmap=\"viridis\")\n",
        "# plt.plot(X_test[\"HR\"], best_model.predict(X_test), color=\"red\", linewidth=2, label=\"Predicted\")\n",
        "# plt.xlabel(\"Heart Rate\")\n",
        "# plt.ylabel(\"Quality\")\n",
        "# plt.title(\"SVM Decision Boundary (Best Kernel)\")\n",
        "# plt.legend()\n",
        "# plt.show()"
      ],
      "metadata": {
        "colab": {
          "base_uri": "https://localhost:8080/"
        },
        "id": "houhfeDbv-wG",
        "outputId": "8684450e-0ab7-4729-a27b-a32ac9569c5d"
      },
      "execution_count": null,
      "outputs": [
        {
          "output_type": "stream",
          "name": "stdout",
          "text": [
            "Accuracy with kernel 'linear': 0.9\n",
            "Accuracy with kernel 'rbf': 0.6\n",
            "Accuracy with kernel 'poly': 0.6\n",
            "Accuracy with kernel 'sigmoid': 0.6\n",
            "\n",
            "Best kernel: linear\n",
            "Best accuracy: 0.9\n",
            "Confusion Matrix:\n",
            " [[3 1]\n",
            " [0 6]]\n"
          ]
        },
        {
          "output_type": "stream",
          "name": "stderr",
          "text": [
            "/usr/local/lib/python3.10/dist-packages/sklearn/utils/validation.py:1143: DataConversionWarning: A column-vector y was passed when a 1d array was expected. Please change the shape of y to (n_samples, ), for example using ravel().\n",
            "  y = column_or_1d(y, warn=True)\n",
            "/usr/local/lib/python3.10/dist-packages/sklearn/utils/validation.py:1143: DataConversionWarning: A column-vector y was passed when a 1d array was expected. Please change the shape of y to (n_samples, ), for example using ravel().\n",
            "  y = column_or_1d(y, warn=True)\n",
            "/usr/local/lib/python3.10/dist-packages/sklearn/utils/validation.py:1143: DataConversionWarning: A column-vector y was passed when a 1d array was expected. Please change the shape of y to (n_samples, ), for example using ravel().\n",
            "  y = column_or_1d(y, warn=True)\n",
            "/usr/local/lib/python3.10/dist-packages/sklearn/utils/validation.py:1143: DataConversionWarning: A column-vector y was passed when a 1d array was expected. Please change the shape of y to (n_samples, ), for example using ravel().\n",
            "  y = column_or_1d(y, warn=True)\n"
          ]
        }
      ]
    }
  ],
  "metadata": {
    "colab": {
      "provenance": []
    },
    "kernelspec": {
      "display_name": "Python 3",
      "name": "python3"
    }
  },
  "nbformat": 4,
  "nbformat_minor": 0
}